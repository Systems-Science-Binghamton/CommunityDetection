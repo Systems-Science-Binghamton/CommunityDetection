{
 "cells": [
  {
   "cell_type": "markdown",
   "id": "49c7d211",
   "metadata": {},
   "source": [
    "# Assortativity\n",
    "\n",
    "## Assortativity mixing\n",
    "\n",
    "Assortativity is a common characteristic observed in empirical networks, where nodes with similar attributes tend to be connected to each other. For instance, in social networks, individuals often interact with others of similar age, resulting in assortativity based on age.\n",
    "\n",
    "Let's consider how to measure the level of assortativity. In an assortative network, nodes with similar attributes are more likely to be connected by an edge. Therefore, if we randomly select an edge from the network, the edge will likely connect nodes with similar attributes.\n",
    "\n",
    "Now, let's make it more explicit about the node attributes. There are two types of attributes, namely an *enumerative attribute* and a *scalar attribute*.\n",
    "An enumerative attribute is a categorical value that does not have an inherent ordering (e.g., gender).\n",
    "A scalar attribute is a real numerical value that can be ordered (e.g., age).\n",
    "\n",
    "With this in mind, let's consider step by step using the karate club network."
   ]
  },
  {
   "cell_type": "code",
   "execution_count": null,
   "id": "726f876e",
   "metadata": {},
   "outputs": [],
   "source": [
    "import networkx as nx\n",
    "import igraph\n",
    "import numpy as np\n",
    "from scipy import sparse\n",
    "\n",
    "# Load the adjacency matrix of the krate club network\n",
    "A = nx.to_scipy_sparse_array(nx.karate_club_graph())\n",
    "A.data = A.data * 0 + 1  # this converts the weighted network to unweighted network\n",
    "\n",
    "# Convert to igraph object for visualization\n",
    "src, trg, _ = sparse.find(sparse.triu(A, 1))\n",
    "deg = np.array(A.sum(axis=1)).ravel()\n",
    "g = igraph.Graph(edges=list(zip(src, trg)), directed=False)\n",
    "\n",
    "igraph.plot(g, bbox=(300, 300))"
   ]
  },
  {
   "cell_type": "markdown",
   "id": "0dacd5d4",
   "metadata": {},
   "source": [
    "## Assortativity for scalar values\n",
    "\n",
    "When the node attribute is a scalar variable, such as age, we can quantify the similarity between the attributes of two directly connected nodes using the Pearson correlation coefficient. If the correlation is positive, we say that the network is assortative for the node attribute. Conversely, if the correlation is negative, we say that the network is disassortative.\n",
    "\n",
    "Let us calculate the assortativity in terms of node degree, known as *degree assortativity*, for the karate club network."
   ]
  },
  {
   "cell_type": "code",
   "execution_count": null,
   "id": "20c1e380",
   "metadata": {},
   "outputs": [],
   "source": [
    "from scipy import stats\n",
    "import matplotlib.pyplot as plt\n",
    "import seaborn as sns\n",
    "\n",
    "\n",
    "def degree_assortativity(A):\n",
    "    \"\"\"Compute the degree assortativity\n",
    "\n",
    "    A: scipy.sparse adjacency matrix of a network\n",
    "\n",
    "    Return:\n",
    "    degree assortativity of the network.\n",
    "\n",
    "    Hint:\n",
    "    - use sparse.find(A) to find the node ids of the connected nodes.\n",
    "    - use scipy.stats.pearsonr to compute the correlation coefficient\n",
    "    \"\"\"\n",
    "\n",
    "    return\n",
    "\n",
    "\n",
    "corr = degree_assortativity(A)\n",
    "print(f\"Degree assortativity = {corr}\")"
   ]
  },
  {
   "cell_type": "markdown",
   "id": "00e637ca",
   "metadata": {},
   "source": [
    "The karate club network exhibits a strong degree of disassortativity. In a degree disassortative network, nodes with a high degree are more likely to be connected to nodes with a lower degree, resulting in a star-like structure. Conversely, in a strongly assortative network, nodes with a high degree are more likely to be connected, creating a dense core within the network. This core can be identified using $k$-core decomposition.\n",
    "\n",
    "![](https://qph.cf2.quoracdn.net/main-qimg-468957ce83120cad98d6fcb168ff8658-pjlq)\n",
    "\n",
    "## Modularity\n",
    "The karate club network represents the social connections among members of a university karate club. One unique aspect of this network is the division within the club between the instructor and the president. Each individual member has an enumerative variable about whom to support, either the instructor or the president. The attributes of each node can be obtained by"
   ]
  },
  {
   "cell_type": "code",
   "execution_count": null,
   "id": "6775e673",
   "metadata": {},
   "outputs": [],
   "source": [
    "G = nx.karate_club_graph()\n",
    "categories = np.array([d[1][\"club\"] for d in G.nodes(data=True)])\n",
    "categories[:3], categories[-3:]"
   ]
  },
  {
   "cell_type": "markdown",
   "id": "2aacd6c2",
   "metadata": {},
   "source": [
    "Let's reflect on the enumerative variable in the network visualization."
   ]
  },
  {
   "cell_type": "code",
   "execution_count": null,
   "id": "a4db4044",
   "metadata": {},
   "outputs": [],
   "source": [
    "import seaborn as sns\n",
    "\n",
    "category_list = np.unique(categories)\n",
    "cmap = sns.color_palette()\n",
    "palette = dict(zip(category_list, cmap[: len(category_list)]))\n",
    "node_color = [palette[c] for c in categories]\n",
    "igraph.plot(g, vertex_color=node_color, bbox=(300, 300))"
   ]
  },
  {
   "cell_type": "markdown",
   "id": "2cb66296",
   "metadata": {},
   "source": [
    "We see that the network is highly assortative for who to support. Now, let's consider how to *quantify* the assortativity.\n",
    "A network with strong assortativity has many edges between nodes with the same node attribute. Thus, if we randomly pick an edge from a network, two nodes connected by the edge tend to have the same node attribute.\n",
    "\n",
    "Let's count the node attributes' co-occurrence directly connected by an edge."
   ]
  },
  {
   "cell_type": "code",
   "execution_count": null,
   "id": "7ed75a9e",
   "metadata": {},
   "outputs": [],
   "source": [
    "# Get the arrays of the source and target nodes\n",
    "src, trg, _ = sparse.find(A)\n",
    "\n",
    "# When using enumerative variables, it is often convenient to construct a membership matrix U, where\n",
    "# The membership matrix is an NxK matrix, where N is the number of nodes, and K is the number of categories (# of unique values the variable can take)\n",
    "# U[i, k] = 1 if node i belongs to category k\n",
    "# U[i, k] = 0 if node i does not belong to category k\n",
    "category_list, category_ids = np.unique(categories, return_inverse=True)\n",
    "rows, cols = np.arange(len(categories), dtype=int), category_ids\n",
    "nrows, ncols = A.shape[0], len(category_list)\n",
    "U = sparse.csr_matrix(\n",
    "    (np.ones_like(rows), (rows, cols)),\n",
    "    shape=(nrows, ncols),\n",
    ")\n",
    "\n",
    "\n",
    "# We can count the number of edges within and between the categories by multiplying\n",
    "# the membership matrix to the adjacency matrix.\n",
    "E = U.T @ A @ U\n",
    "\n",
    "pd.DataFrame(E.toarray(), columns=category_list, index=category_list)"
   ]
  },
  {
   "cell_type": "markdown",
   "id": "3b38e1b2",
   "metadata": {},
   "source": [
    "Now, let's approach it from a statistical perspective by thinking the joint probability distribution $P(X, Y)$ of nodes' attributes, where $X$ and $Y$ represent the node attributes. To ensure that the joint probability adds up to one, let's normalize the count by dividing it by the total count.\n"
   ]
  },
  {
   "cell_type": "code",
   "execution_count": null,
   "id": "8b7f0b7b",
   "metadata": {},
   "outputs": [],
   "source": [
    "total_edges = E.sum()\n",
    "Pxy = E.toarray() / total_edges\n",
    "pd.DataFrame(Pxy, columns=category_list, index=category_list)"
   ]
  },
  {
   "cell_type": "markdown",
   "id": "c34a662a",
   "metadata": {},
   "source": [
    "We see that the same node attributes (diagonals) have a larger co-occurrence probability than different node attributes (off-diagonals), which signals a strong assortativity.\n",
    "\n",
    "But how large is large enough to say that the network is assortative? The network is assortative if the diagonals of the joint probability are larger than that for a network *without* assortative mixing. We can generate a network without assortative mixing by randomly shuffling the node attributes across different nodes. This shuffling breaks the assortative mixing as each node's attribute becomes independent of another node's attribute.\n",
    "\n",
    "To be more precise, the joint probability $P(X,Y) $ in the shuffled data can be expressed as the product of the marginal probabilities $P(X)$ and $P(Y)$, denoted as $P_{\\text{random}}(X,Y) = P(X)P(Y)$.\n",
    "\n",
    "Now, let's calculate the joint probability for this random network."
   ]
  },
  {
   "cell_type": "code",
   "execution_count": null,
   "id": "0d580f87",
   "metadata": {},
   "outputs": [],
   "source": [
    "src, trg, _ = sparse.find(A)\n",
    "Px = np.bincount(category_ids[src]) / len(src)\n",
    "Px"
   ]
  },
  {
   "cell_type": "code",
   "execution_count": null,
   "id": "760a1c6f",
   "metadata": {},
   "outputs": [],
   "source": [
    "Pxy_random = np.outer(Px, Px)\n",
    "pd.DataFrame(Pxy_random, columns=category_list, index=category_list)"
   ]
  },
  {
   "cell_type": "markdown",
   "id": "c808fe63",
   "metadata": {},
   "source": [
    "We now have all the elements to describe ***Modularity*** formally.\n",
    "Modularity quantifies the tendency of connected nodes to have similar attributes more frequently than would be expected by chance. The probability that two nodes share the same attribute is obtained by summing the diagonal values, denoted as $\\sum_{X}P(X,X)$. By comparing this value to the corresponding probability in a random network ($ P_{ \\text{random}}(X,X)$), the modularity is formally defined as\n",
    "$$\n",
    "Q := \\sum_{X}\\left[P(X,X) - P_{\\text{random}}(X, X) \\right]\n",
    "$$\n",
    "\n",
    "or equivalently,\n",
    "\n",
    "$$\n",
    " Q :=\\frac{1}{2m} \\sum_{i,j} \\left(A_{ij} - \\frac{d_i d_j}{2m} \\right) \\delta(x_i,x_j)\n",
    "$$\n",
    "where $d_i$ is the degree of node $i$, $m$ is the number of edges in the network, $x_i$ is the enumerative variable of node $i$, and $\\delta$ is Kronecker's delta which is $\\delta(x_i,x_j)=1$ if $x_i=x_j$ and otherwise $\\delta(x_i,x_j)=0$. The modularity varies between -0.5 and 1, and a higher value implies a stronger assortativity. A negative modularity indicate disassortativity, i.e., nodes are likely to connect to other nodes with a different attribute."
   ]
  },
  {
   "cell_type": "code",
   "execution_count": null,
   "id": "e78e6c37",
   "metadata": {},
   "outputs": [],
   "source": [
    "Q = np.trace(Pxy - Pxy_random)  # trace is the sum of the diagonals\n",
    "Q"
   ]
  },
  {
   "cell_type": "markdown",
   "id": "2d58552a",
   "metadata": {},
   "source": [
    "The degree assortativity is negative, suggesting that a node with high degree tends to be connected to nodes with a small degree."
   ]
  },
  {
   "cell_type": "markdown",
   "id": "06e8c16d",
   "metadata": {},
   "source": [
    "## Community detection with modularity\n",
    "\n",
    "### Girvan-Newman algorithm\n",
    "Modularity is a valuable tool not only for measuring the level of assortativity in a node attribute, but also for identifying groups with strong assortativity based on the network structure. This problem can be seen as a community detection problem.\n",
    "\n",
    "The [Girvan-Newman algorithm](https://journals.aps.org/pre/abstract/10.1103/PhysRevE.69.026113) utilizes Modularity to identify communities within networks.\n",
    "The Girvan-Newman algorithm works as follows.\n",
    "1. Calculate the betweenness centrality for each edge in the network. This is known as edge betweenness.\n",
    "2. Remove the edge with the highest betweenness centrality.\n",
    "3. Repeat steps 1 and 2 iteratively until no edges remain in the network.\n",
    "4. The iterative process breaks down the network into smaller connected components, which can be visualized as a dendrogram.\n",
    "5. Treat each connected component as a community and calculate the modularity for every cut from top to bottom in the dendrogram.\n",
    "7. Select the cut that achieves the highest modularity.\n",
    "8. Output the communities at that cut.\n",
    "\n",
    "![](https://ars.els-cdn.com/content/image/1-s2.0-S1470160X2100011X-gr3.jpg)\n",
    "\n",
    "Let's implement the algorithm."
   ]
  },
  {
   "cell_type": "code",
   "execution_count": null,
   "id": "4e320088",
   "metadata": {},
   "outputs": [],
   "source": [
    "def calc_modularity(A, membership):\n",
    "    \"\"\"\n",
    "    Calculate the modularity of a graph given the membership of the nodes.\n",
    "    A: CSR representation of the adjacency matrix\n",
    "    membership: 1D array of integers\n",
    "\n",
    "    Return the modularity value of the given membership.\n",
    "\n",
    "    Hint:\n",
    "    - use sparse.find(A) to find the node ids of the connected nodes.\n",
    "    - use np.unique to get the unique values of the membership array\n",
    "    - Use a memership matrix U, where U[i, k] = 1 if node i belongs to category k, and U[i, k] = 0 otherwise\n",
    "    \"\"\"\n",
    "    Q = ...\n",
    "    return Q\n",
    "\n",
    "\n",
    "def girvan_newman_algorithm(g):\n",
    "    \"\"\"\n",
    "    Perform the Girvan-Newman algorithm on a graph.\n",
    "    g: igraph Graph object\n",
    "\n",
    "    Return the 1D array of membership of the nodes\n",
    "\n",
    "    Hint:\n",
    "    - copy the graph g.copy() before removing edges\n",
    "    - use g.edge_betweenness() to get the edge betweenness\n",
    "    - use g.remove_edge() to remove an edge\n",
    "    - use g.components() to get the connected components\n",
    "    - compute the modularity Q using the function above\n",
    "    - keep track of the maximum Q and the membership array that gives the maximum Q\n",
    "    \"\"\"\n",
    "    membership = ...\n",
    "    return membership"
   ]
  },
  {
   "cell_type": "markdown",
   "id": "1ff39f07",
   "metadata": {},
   "source": [
    "\n",
    "\n",
    "\n",
    "### Modularity maximization\n",
    "\n",
    "The Girvan-Newman algorithm uses the Modularity as a selection criterion to pick the best partition of nodes into communities. But later, people realized that it is possible to directly *maximize* Modularity, which yields an even-more assortative grouping of nodes.\n",
    "\n",
    "Unfortunately, the modularity maximization is an NP-hard problem. So many heuristics are developed to find communities in networks with a reasonably high modularity value. [The Louvain algorithm](https://iopscience.iop.org/article/10.1088/1742-5468/2008/10/P10008) had been the to-go method for the modularity maximization. But the algorithm is replaced by [the Laiden algorithm](https://www.nature.com/articles/s41598-019-41695-z) which runs faster and finds better communities in terms of the modularity. The Leiden algorithm is implemented in igraph.\n"
   ]
  },
  {
   "cell_type": "code",
   "execution_count": null,
   "id": "9e202d6c",
   "metadata": {},
   "outputs": [],
   "source": [
    "community_membership = g.community_leiden(\"modularity\").membership\n",
    "community_membership = np.array(community_membership)\n",
    "community_membership"
   ]
  },
  {
   "cell_type": "code",
   "execution_count": null,
   "id": "d3be2d6c",
   "metadata": {},
   "outputs": [],
   "source": [
    "cmap = sns.color_palette(\"colorblind\")\n",
    "palette = dict(zip(set(community_membership), cmap[: len(set(community_membership))]))\n",
    "node_color = [palette[c] for c in community_membership]\n",
    "igraph.plot(g, vertex_color=node_color, bbox=(300, 300))"
   ]
  },
  {
   "cell_type": "markdown",
   "id": "5c8d9141",
   "metadata": {},
   "source": [
    "# Modeling communities in networks\n",
    "\n",
    "The stochastic block model (SBM) characterizes communities in networks from a perspective of probabilities. Specifically, in SBM, every node belongs to one of the $K$ groups, where $K$ is the number of groups. A node $i$ in group $k$ is connected to another node $j$ in group $\\ell$ by a probability $p_{k\\ell}$ determined by the nodes' group membership (i.e., $k$ and $\\ell$).\n",
    "\n",
    "Let's implement the SBM. First, here is an example of the parameter configuration."
   ]
  },
  {
   "cell_type": "code",
   "execution_count": null,
   "id": "30ff35bf",
   "metadata": {},
   "outputs": [],
   "source": [
    "# Determine the size of the network\n",
    "n_nodes = 100\n",
    "\n",
    "# Number of groups\n",
    "K = 3\n",
    "\n",
    "# Define the membership of nodes to a group\n",
    "membership = np.random.choice(K, size=n_nodes)\n",
    "\n",
    "# Define the probability of connection between groups\n",
    "P = np.array([[0.3, 0.05, 0.05], [0.05, 0.3, 0.05], [0.05, 0.05, 0.3]])"
   ]
  },
  {
   "cell_type": "markdown",
   "id": "95bb3c62",
   "metadata": {},
   "source": [
    "And implement the following function to generate a network with the SBM."
   ]
  },
  {
   "cell_type": "code",
   "execution_count": null,
   "id": "e049ee1b",
   "metadata": {},
   "outputs": [],
   "source": [
    "def generate_SBM_network(n_nodes, membership, P):\n",
    "    \"\"\"\n",
    "    Generate a stochastic block model network\n",
    "    n_nodes: number of nodes\n",
    "    membership: 1D array of integers\n",
    "    P: 2D array of connection probability between groups\n",
    "\n",
    "    Return:\n",
    "    net: CSR representation of the adjacency matrix generated by the SBM\n",
    "\n",
    "    \"\"\"\n",
    "    return net\n",
    "\n",
    "\n",
    "Asbm = generate_SBM_network(n_nodes, membership, P)"
   ]
  },
  {
   "cell_type": "markdown",
   "id": "829e7577",
   "metadata": {},
   "source": [
    "And let's visualize it"
   ]
  },
  {
   "cell_type": "code",
   "execution_count": null,
   "id": "aec4b654",
   "metadata": {},
   "outputs": [],
   "source": [
    "# Convert to igraph object for visualization\n",
    "src, trg, _ = sparse.find(sparse.triu(Asbm, 1))\n",
    "g = igraph.Graph(edges=list(zip(src, trg)), directed=False)\n",
    "\n",
    "palette = dict(zip(set(membership), cmap[: len(set(membership))]))\n",
    "node_color = [palette[c] for c in membership]\n",
    "igraph.plot(g, layout=\"kk\", vertex_color=node_color, bbox=(300, 300))"
   ]
  },
  {
   "cell_type": "markdown",
   "id": "f760c6ab",
   "metadata": {},
   "source": [
    "#  Modularity is not a silver bullet\n",
    "\n",
    "Modularity has some critical drawbacks ([see here](https://skewed.de/tiago/blog/modularity-harmful)). One notable limitation is the [resolution limit](https://www.pnas.org/doi/10.1073/pnas.0605965104) which states that the modularity maximization fails to find small groups even if they exist in the network.\n",
    "\n",
    "Let's confirm the limitation by running a modularity maximization on a network with many small communities. We generate the network by using the SBM with the following configuration: \n",
    "- Number of nodes is 120\n",
    "- Number of groups is 20 \n",
    "- Each group consists of 6 nodes \n",
    "- Nodes in the same group are connected by an edge with probability 0.9\n",
    "- Nodes in different groups are connected by an edge with probability 1/120.\n",
    "\n",
    "Let's generate a network with the SBM and run the Leiden algorithm "
   ]
  },
  {
   "cell_type": "code",
   "execution_count": null,
   "id": "b11e94ac",
   "metadata": {},
   "outputs": [],
   "source": [
    "n_nodes = 120\n",
    "K = 20\n",
    "n_nodes_per_community = 6\n",
    "membership = np.arange(n_nodes) // n_nodes_per_community\n",
    "P = np.ones(K) * (1.0 / n_nodes) + np.eye(K) * 0.9\n",
    "\n",
    "net = generate_SBM_network(n_nodes=n_nodes, membership=membership, P=P)"
   ]
  },
  {
   "cell_type": "code",
   "execution_count": null,
   "id": "32de01f4",
   "metadata": {},
   "outputs": [],
   "source": [
    "# Convert to igraph object for visualization\n",
    "src, trg, _ = sparse.find(sparse.triu(net, 1))\n",
    "gsbm = igraph.Graph(edges=list(zip(src, trg)))\n",
    "\n",
    "cmap = sns.color_palette(\"tab20\")\n",
    "palette = dict(zip(np.unique(membership), cmap[: len(set(membership))]))\n",
    "node_color = [palette[c] for c in membership]\n",
    "igraph.plot(\n",
    "    gsbm,\n",
    "    layout=\"kk\",\n",
    "    vertex_color=node_color,\n",
    "    bbox=(500, 500),\n",
    ")"
   ]
  },
  {
   "cell_type": "markdown",
   "id": "9afaf364",
   "metadata": {},
   "source": [
    "Run the Leiden algorithm and count the number of communities detected. Does it find more communities or less communities than the actual number of communities? "
   ]
  },
  {
   "cell_type": "code",
   "execution_count": null,
   "id": "f0020c89",
   "metadata": {},
   "outputs": [],
   "source": []
  },
  {
   "cell_type": "markdown",
   "id": "43c70c83",
   "metadata": {},
   "source": [
    "Another issue with modularity maximization is that it can identify communities with high modularity even in random networks where no communities actually exist. This problem becomes more significant in the case of sparse networks. \n",
    "\n",
    "To demonstrate the problem, let's generate a network of 100 nodes with no community, in which every node is connected to any other nodes with the same probability of 0.02** "
   ]
  },
  {
   "cell_type": "code",
   "execution_count": null,
   "id": "5c6b8783",
   "metadata": {},
   "outputs": [],
   "source": [
    "n_nodes = 100\n",
    "membership = ...\n",
    "P = ...\n",
    "net = generate_SBM_network(n_nodes, membership, P)\n",
    "\n",
    "assert n_nodes == np.shape[0]\n",
    "assert np.isclose(net.sum() / np.prod(net.shape), 0.02, atol=0.05)\n",
    "assert set(membership) == 1"
   ]
  },
  {
   "cell_type": "markdown",
   "id": "9f72b941",
   "metadata": {},
   "source": [
    "Find the communities by using the Leiden algorithm"
   ]
  },
  {
   "cell_type": "code",
   "execution_count": null,
   "id": "103937c5",
   "metadata": {},
   "outputs": [],
   "source": []
  },
  {
   "cell_type": "markdown",
   "id": "691c8f9f",
   "metadata": {},
   "source": [
    "Check out the modularity value. How high is the modularity value?"
   ]
  },
  {
   "cell_type": "code",
   "execution_count": null,
   "id": "aca75693",
   "metadata": {},
   "outputs": [],
   "source": [
    "calc_modularity(net, detected_membership)"
   ]
  },
  {
   "cell_type": "markdown",
   "id": "8f1885df",
   "metadata": {},
   "source": [
    "How does this pseudo community look like?"
   ]
  },
  {
   "cell_type": "code",
   "execution_count": null,
   "id": "61c1aec4",
   "metadata": {},
   "outputs": [],
   "source": [
    "# Convert to igraph object for visualization\n",
    "src, trg, _ = sparse.find(sparse.triu(net, 1))\n",
    "gsbm = igraph.Graph(edges=list(zip(src, trg)))\n",
    "\n",
    "cmap = sns.color_palette(\"tab20\")\n",
    "palette = dict(zip(np.unique(membership), cmap[: len(set(membership))]))\n",
    "node_color = [palette[c] for c in membership]\n",
    "igraph.plot(\n",
    "    gsbm,\n",
    "    layout=\"kk\",\n",
    "    vertex_color=node_color,\n",
    "    bbox=(500, 500),\n",
    ")"
   ]
  },
  {
   "cell_type": "markdown",
   "id": "9eaa7df3",
   "metadata": {},
   "source": [
    "So why does the modularity high even for random networks, where communities do not exist. It's because we *maximize* the modularity. The modularity maximization partition nodes into an exclusive set of nodes. And there are an exponential number of possible partitions of nodes. Most partitions have a small modularity. But,  in one of the countless number of possible partitions, many edges appear within each group by a random chance. And the algorithm picks this partition with the highest (or nearly highest) modularity. "
   ]
  },
  {
   "cell_type": "markdown",
   "id": "8dd3b4b6",
   "metadata": {},
   "source": [
    "While the modularity has many critical limitations, it is still by far the most widely used method in practice.\n",
    "\n",
    "Alternatives to the modularity maximizations are \n",
    "- [Infomap](https://www.mapequation.org/infomap/)\n",
    "- [Baysian stochastic block model](https://graph-tool.skewed.de/static/doc/demos/inference/inference.html)\n",
    "- [Belief propagation method](https://journals.aps.org/prl/abstract/10.1103/PhysRevLett.107.065701)\n",
    "\n",
    "If you are interested in the community detection problem, here are good reviews: \n",
    "1. [Community detection in graph by Santo Fortunato](https://arxiv.org/abs/0906.0612)\n",
    "2. [Community detection in networks: A user guide by Santo Fortunato](https://www.cs.cornell.edu/courses/cs6241/2020sp/readings/Fortunato-2016-guide.pdf)"
   ]
  }
 ],
 "metadata": {
  "kernelspec": {
   "display_name": "advnetsci",
   "language": "python",
   "name": "python3"
  }
 },
 "nbformat": 4,
 "nbformat_minor": 5
}
